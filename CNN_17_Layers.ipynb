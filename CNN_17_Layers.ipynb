{
  "nbformat": 4,
  "nbformat_minor": 0,
  "metadata": {
    "colab": {
      "provenance": [],
      "gpuType": "T4",
      "include_colab_link": true
    },
    "kernelspec": {
      "name": "python3",
      "display_name": "Python 3"
    },
    "language_info": {
      "name": "python"
    },
    "accelerator": "GPU"
  },
  "cells": [
    {
      "cell_type": "markdown",
      "metadata": {
        "id": "view-in-github",
        "colab_type": "text"
      },
      "source": [
        "<a href=\"https://colab.research.google.com/github/Priyanka-Joshi31/image_classification/blob/main/CNN_17__Layers.ipynb\" target=\"_parent\"><img src=\"https://colab.research.google.com/assets/colab-badge.svg\" alt=\"Open In Colab\"/></a>"
      ]
    },
    {
      "cell_type": "code",
      "source": [
        "from google.colab import drive\n",
        "drive.mount('/content/drive')"
      ],
      "metadata": {
        "colab": {
          "base_uri": "https://localhost:8080/"
        },
        "id": "xUj2Ulbd5uqt",
        "outputId": "0802d634-889d-4105-ae0b-8d60b3cab7ef"
      },
      "execution_count": null,
      "outputs": [
        {
          "output_type": "stream",
          "name": "stdout",
          "text": [
            "Drive already mounted at /content/drive; to attempt to forcibly remount, call drive.mount(\"/content/drive\", force_remount=True).\n"
          ]
        }
      ]
    },
    {
      "cell_type": "code",
      "source": [
        "!unzip /content/drive/MyDrive/raw-images.zip"
      ],
      "metadata": {
        "colab": {
          "base_uri": "https://localhost:8080/"
        },
        "id": "Emh3z20ZLyGq",
        "outputId": "40f0e9fe-f65e-4b55-fbba-d7e315b617a4"
      },
      "execution_count": null,
      "outputs": [
        {
          "output_type": "stream",
          "name": "stdout",
          "text": [
            "Archive:  /content/drive/MyDrive/raw-images.zip\n",
            "replace __MACOSX/._raw-images? [y]es, [n]o, [A]ll, [N]one, [r]ename: "
          ]
        }
      ]
    },
    {
      "cell_type": "code",
      "source": [
        "import keras\n",
        "from keras.models import Sequential\n",
        "from keras import layers\n",
        "from keras.datasets import cifar10\n",
        "\n",
        "import matplotlib.pyplot as plt\n",
        "from sklearn.metrics import confusion_matrix\n",
        "\n",
        "import numpy as np\n",
        "import seaborn as sns"
      ],
      "metadata": {
        "id": "j3dIpFfE5vOQ"
      },
      "execution_count": null,
      "outputs": []
    },
    {
      "cell_type": "code",
      "source": [
        "from sklearn.model_selection import train_test_split"
      ],
      "metadata": {
        "id": "iicf2YKSAX4a"
      },
      "execution_count": null,
      "outputs": []
    },
    {
      "cell_type": "code",
      "source": [
        "(train_images, train_labels), (test_images, test_labels) = cifar10.load_data()"
      ],
      "metadata": {
        "id": "GvoaVQQ86mGs"
      },
      "execution_count": null,
      "outputs": []
    },
    {
      "cell_type": "code",
      "source": [
        "print(train_images.shape)\n",
        "print(train_labels.shape)\n",
        "print(test_images.shape)\n",
        "print(test_labels.shape)"
      ],
      "metadata": {
        "colab": {
          "base_uri": "https://localhost:8080/"
        },
        "id": "Uv9XfXXF6qdg",
        "outputId": "6b10889f-58d2-4e57-d320-b102ff5a2d78"
      },
      "execution_count": null,
      "outputs": [
        {
          "output_type": "stream",
          "name": "stdout",
          "text": [
            "(50000, 32, 32, 3)\n",
            "(50000, 1)\n",
            "(10000, 32, 32, 3)\n",
            "(10000, 1)\n"
          ]
        }
      ]
    },
    {
      "cell_type": "code",
      "source": [
        "classes = [\"airplane\", \"automobile\", \"bird\", \"cat\", \"deer\", \"dog\", \"frog\", \"horse\", \"ship\", \"truck\"]"
      ],
      "metadata": {
        "id": "O_bfoVaW8OGi"
      },
      "execution_count": null,
      "outputs": []
    },
    {
      "cell_type": "code",
      "source": [
        "from tensorflow.keras.utils import to_categorical"
      ],
      "metadata": {
        "id": "HCnvhhTy8pcT"
      },
      "execution_count": null,
      "outputs": []
    },
    {
      "cell_type": "code",
      "source": [
        "train_images = train_images.astype(\"float32\")\n",
        "test_images = test_images.astype(\"float32\")\n",
        "\n",
        "train_images = train_images / 255\n",
        "test_images = test_images / 255\n",
        "\n",
        "train_labels = to_categorical(train_labels, len(classes))\n",
        "test_labels = to_categorical(test_labels, len(classes))"
      ],
      "metadata": {
        "id": "3es_VNUR6uqG"
      },
      "execution_count": null,
      "outputs": []
    },
    {
      "cell_type": "code",
      "source": [
        "model = Sequential()\n",
        "\n",
        "# Feature Learning Parts\n",
        "model.add(layers.Conv2D(32, (3,3), padding = \"same\", activation = \"relu\", input_shape=(32,32,3)))\n",
        "model.add(layers.BatchNormalization())\n",
        "model.add(layers.Conv2D(32, (3,3), padding = \"same\", activation = \"relu\"))\n",
        "model.add(layers.BatchNormalization())\n",
        "model.add(layers.MaxPooling2D(pool_size=(2,2)))\n",
        "model.add(layers.Dropout(0.3))\n",
        "\n",
        "model.add(layers.Conv2D(64, (3,3), padding = \"same\", activation = \"relu\"))\n",
        "model.add(layers.BatchNormalization())\n",
        "model.add(layers.Conv2D(64, (3,3), padding = \"same\", activation = \"relu\"))\n",
        "model.add(layers.BatchNormalization())\n",
        "model.add(layers.MaxPooling2D(pool_size=(2,2)))\n",
        "model.add(layers.Dropout(0.5))\n",
        "\n",
        "# Classification Parts\n",
        "model.add(layers.Flatten())\n",
        "model.add(layers.Dense(64, activation = \"relu\"))\n",
        "model.add(layers.BatchNormalization())\n",
        "model.add(layers.Dropout(0.5))\n",
        "model.add(layers.Dense(len(classes), activation = \"softmax\"))"
      ],
      "metadata": {
        "id": "wJkFgmZ460ZT"
      },
      "execution_count": null,
      "outputs": []
    },
    {
      "cell_type": "code",
      "source": [
        "model.compile(optimizer=\"adam\", loss=keras.losses.categorical_crossentropy, metrics=[\"accuracy\"])"
      ],
      "metadata": {
        "id": "o9p67ZR87AGO"
      },
      "execution_count": null,
      "outputs": []
    },
    {
      "cell_type": "code",
      "source": [
        "history = model.fit(train_images, train_labels, batch_size=64, epochs=20)"
      ],
      "metadata": {
        "colab": {
          "base_uri": "https://localhost:8080/"
        },
        "id": "IJ2yw1kD7NE9",
        "outputId": "e606cfc0-811a-48f1-85f5-afd6154740c3"
      },
      "execution_count": null,
      "outputs": [
        {
          "output_type": "stream",
          "name": "stdout",
          "text": [
            "Epoch 1/20\n",
            "782/782 [==============================] - 13s 11ms/step - loss: 1.6650 - accuracy: 0.4194\n",
            "Epoch 2/20\n",
            "782/782 [==============================] - 9s 12ms/step - loss: 1.2067 - accuracy: 0.5731\n",
            "Epoch 3/20\n",
            "782/782 [==============================] - 9s 11ms/step - loss: 1.0489 - accuracy: 0.6349\n",
            "Epoch 4/20\n",
            "782/782 [==============================] - 9s 12ms/step - loss: 0.9507 - accuracy: 0.6706\n",
            "Epoch 5/20\n",
            "782/782 [==============================] - 9s 11ms/step - loss: 0.9133 - accuracy: 0.6857\n",
            "Epoch 6/20\n",
            "782/782 [==============================] - 9s 11ms/step - loss: 0.8422 - accuracy: 0.7095\n",
            "Epoch 7/20\n",
            "782/782 [==============================] - 9s 12ms/step - loss: 0.8032 - accuracy: 0.7235\n",
            "Epoch 8/20\n",
            "782/782 [==============================] - 8s 11ms/step - loss: 0.7699 - accuracy: 0.7349\n",
            "Epoch 9/20\n",
            "782/782 [==============================] - 9s 12ms/step - loss: 0.7451 - accuracy: 0.7437\n",
            "Epoch 10/20\n",
            "782/782 [==============================] - 9s 11ms/step - loss: 0.7243 - accuracy: 0.7523\n",
            "Epoch 11/20\n",
            "782/782 [==============================] - 9s 12ms/step - loss: 0.6989 - accuracy: 0.7602\n",
            "Epoch 12/20\n",
            "782/782 [==============================] - 11s 14ms/step - loss: 0.6788 - accuracy: 0.7676\n",
            "Epoch 13/20\n",
            "782/782 [==============================] - 9s 11ms/step - loss: 0.6615 - accuracy: 0.7718\n",
            "Epoch 14/20\n",
            "782/782 [==============================] - 9s 12ms/step - loss: 0.6376 - accuracy: 0.7818\n",
            "Epoch 15/20\n",
            "782/782 [==============================] - 8s 11ms/step - loss: 0.6332 - accuracy: 0.7822\n",
            "Epoch 16/20\n",
            "782/782 [==============================] - 9s 12ms/step - loss: 0.6155 - accuracy: 0.7881\n",
            "Epoch 17/20\n",
            "782/782 [==============================] - 9s 11ms/step - loss: 0.6048 - accuracy: 0.7932\n",
            "Epoch 18/20\n",
            "782/782 [==============================] - 9s 12ms/step - loss: 0.5957 - accuracy: 0.7961\n",
            "Epoch 19/20\n",
            "782/782 [==============================] - 9s 12ms/step - loss: 0.5884 - accuracy: 0.7982\n",
            "Epoch 20/20\n",
            "782/782 [==============================] - 9s 11ms/step - loss: 0.5775 - accuracy: 0.8034\n"
          ]
        }
      ]
    },
    {
      "cell_type": "code",
      "source": [
        "model.evaluate(test_images, test_labels)"
      ],
      "metadata": {
        "colab": {
          "base_uri": "https://localhost:8080/"
        },
        "id": "QVBMugH87QcG",
        "outputId": "e6efcbd6-bd2f-4a1a-a1e3-88b79eac9e9d"
      },
      "execution_count": null,
      "outputs": [
        {
          "output_type": "stream",
          "name": "stdout",
          "text": [
            "313/313 [==============================] - 2s 4ms/step - loss: 0.5536 - accuracy: 0.8101\n"
          ]
        },
        {
          "output_type": "execute_result",
          "data": {
            "text/plain": [
              "[0.5536308884620667, 0.8101000189781189]"
            ]
          },
          "metadata": {},
          "execution_count": 82
        }
      ]
    },
    {
      "cell_type": "code",
      "source": [
        "y_pred = model.predict(test_images)\n",
        "\n",
        "Y_pred = np.argmax(y_pred, 1)\n",
        "Y_test = np.argmax(test_labels, 1)\n",
        "\n",
        "mat = confusion_matrix(Y_test, Y_pred) # Confusion matrix\n",
        "\n",
        "sns.heatmap(mat.T, square=True, annot=True, cbar=False, cmap=plt.cm.Blues)\n",
        "plt.xlabel('Predicted Values')\n",
        "plt.ylabel('True Values');\n",
        "plt.show();"
      ],
      "metadata": {
        "id": "yu8yZA9oDEgp",
        "outputId": "3f7c6a2f-8f4b-4a87-d53c-52c794fbf92d",
        "colab": {
          "base_uri": "https://localhost:8080/",
          "height": 467
        }
      },
      "execution_count": null,
      "outputs": [
        {
          "output_type": "stream",
          "name": "stdout",
          "text": [
            "313/313 [==============================] - 2s 5ms/step\n"
          ]
        },
        {
          "output_type": "display_data",
          "data": {
            "text/plain": [
              "<Figure size 640x480 with 1 Axes>"
            ],
            "image/png": "[encoded data removed]"
          },
          "metadata": {}
        }
      ]
    },
    {
      "cell_type": "code",
      "source": [
        "from sklearn.metrics import accuracy_score, f1_score, precision_score, recall_score, classification_report, confusion_matrix"
      ],
      "metadata": {
        "id": "ZiWqnCL1DXcl"
      },
      "execution_count": null,
      "outputs": []
    },
    {
      "cell_type": "code",
      "source": [
        "f1_score(Y_test, Y_pred, average=\"macro\")"
      ],
      "metadata": {
        "id": "rclExaHyD_nc",
        "outputId": "ad304177-4ab3-4cf4-fbd7-7a658cf50326",
        "colab": {
          "base_uri": "https://localhost:8080/"
        }
      },
      "execution_count": null,
      "outputs": [
        {
          "output_type": "execute_result",
          "data": {
            "text/plain": [
              "0.8089095137610848"
            ]
          },
          "metadata": {},
          "execution_count": 88
        }
      ]
    },
    {
      "cell_type": "code",
      "source": [
        "precision_score(Y_test, Y_pred, average=\"macro\")"
      ],
      "metadata": {
        "id": "t2g2VFWfEIdY",
        "outputId": "3e2db217-255f-446e-841d-aa56777a8327",
        "colab": {
          "base_uri": "https://localhost:8080/"
        }
      },
      "execution_count": null,
      "outputs": [
        {
          "output_type": "execute_result",
          "data": {
            "text/plain": [
              "0.8129006174742361"
            ]
          },
          "metadata": {},
          "execution_count": 89
        }
      ]
    },
    {
      "cell_type": "code",
      "source": [
        "recall_score(Y_test, Y_pred, average=\"macro\")"
      ],
      "metadata": {
        "id": "GI1XQzLSEb7I",
        "outputId": "dfa4e521-df4d-4d5a-f6b6-b40e11c8b90a",
        "colab": {
          "base_uri": "https://localhost:8080/"
        }
      },
      "execution_count": null,
      "outputs": [
        {
          "output_type": "execute_result",
          "data": {
            "text/plain": [
              "0.8100999999999999"
            ]
          },
          "metadata": {},
          "execution_count": 90
        }
      ]
    }
  ]
}
